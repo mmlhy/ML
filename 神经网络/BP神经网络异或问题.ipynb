{
 "cells": [
  {
   "cell_type": "code",
   "execution_count": 1,
   "metadata": {},
   "outputs": [],
   "source": [
    "import numpy as np\n",
    "import matplotlib.pyplot"
   ]
  },
  {
   "cell_type": "code",
   "execution_count": 2,
   "metadata": {},
   "outputs": [
    {
     "name": "stdout",
     "output_type": "stream",
     "text": [
      "[[ 0.20558613 -0.81601189 -0.91813463 -0.99677813]\n",
      " [ 0.66141602  0.63601042  0.14497139  0.95750326]\n",
      " [-0.45551845 -0.5853089   0.12334691 -0.41822556]]\n"
     ]
    }
   ],
   "source": [
    "#输入数据\n",
    "X = np.array([[1,0,0],\n",
    "              [1,0,1],\n",
    "              [1,1,0],\n",
    "              [1,1,1]])\n",
    "#标签\n",
    "Y = np.array([[0],\n",
    "              [1],\n",
    "              [1],\n",
    "              [0]])\n",
    "#生成3行一列（-1,1）之间的数据  因为三个输入一个输出所以要三行一列\n",
    "#np.random.random() 生成的是0-1之间的数据\n",
    "V = (np.random.random([3,4])-0.5)*2\n",
    "W = (np.random.random([4,1])-0.5)*2\n",
    "print(V)\n",
    "\n",
    "lr = 0.11\n",
    "\n",
    "def sigmoid(x):\n",
    "    return 1/(1+np.exp(-x))\n",
    "\n",
    "def dsigmoid(x):\n",
    "    return x*(1-x)\n",
    "\n",
    "def update():\n",
    "    global X,Y,W,V,lr\n",
    "    L1 = sigmoid(np.dot(X,V)) #隐藏层输出 4*4 h 1\n",
    "    L2 = sigmoid(np.dot(L1,W)) #输出层 4*1 h 1\n",
    "    L2_delta = (Y - L2)*dsigmoid(L2) #4*1 h 1 \n",
    "    L1_delta = L2_delta.dot(W.T) * dsigmoid(L1) # 4*4 h 1    \n",
    "    W_C = lr*L1.T.dot(L2_delta)\n",
    "    V_C = lr*X.T.dot(L1_delta)\n",
    "    W = W + W_C\n",
    "    V = V + V_C"
   ]
  },
  {
   "cell_type": "code",
   "execution_count": 4,
   "metadata": {},
   "outputs": [
    {
     "name": "stdout",
     "output_type": "stream",
     "text": [
      "Error: 0.02403470569018855\n",
      "Error: 0.023625947624171077\n",
      "Error: 0.023235557786598433\n",
      "Error: 0.022862262521100737\n",
      "Error: 0.022504905025298894\n",
      "Error: 0.022162432174018618\n",
      "Error: 0.021833883091438504\n",
      "Error: 0.02151837920656887\n",
      "Error: 0.021215115571698674\n",
      "Error: 0.020923353260166887\n",
      "Error: 0.020642412689785408\n",
      "Error: 0.020371667742788157\n",
      "Error: 0.02011054057340561\n",
      "Error: 0.019858497010881954\n",
      "Error: 0.019615042479629207\n",
      "Error: 0.019379718369783694\n",
      "Error: 0.019152098801104432\n",
      "Error: 0.018931787731280864\n",
      "Error: 0.018718416366558712\n",
      "Error: 0.018511640838378807\n",
      "Error: 0.018311140114627172\n",
      "Error: 0.01811661411826473\n",
      "Error: 0.017927782029665138\n",
      "Error: 0.017744380752025647\n",
      "Error: 0.01756616352183188\n",
      "Error: 0.017392898648594685\n",
      "Error: 0.017224368370014627\n",
      "Error: 0.017060367810400066\n",
      "Error: 0.01690070403161095\n",
      "Error: 0.016745195167057025\n",
      "Error: 0.016593669630374692\n",
      "Error: 0.016445965391356794\n",
      "Error: 0.0163019293125438\n",
      "Error: 0.01616141654061453\n",
      "Error: 0.016024289947352804\n",
      "Error: 0.015890419615528895\n",
      "Error: 0.015759682365530575\n",
      "Error: 0.015631961319013156\n",
      "Error: 0.01550714549622535\n",
      "Error: 0.015385129444007523\n"
     ]
    }
   ],
   "source": [
    "for i in range(20000):\n",
    "    update()\n",
    "    if i%500 ==0: \n",
    "        L1 = sigmoid(np.dot(X,V)) #隐藏层输出 4*4 h 1\n",
    "        L2 = sigmoid(np.dot(L1,W)) #输出层 4*1 h 1 \n",
    "        print(\"Error:\",np.mean(np.abs(Y-L2)))"
   ]
  },
  {
   "cell_type": "code",
   "execution_count": null,
   "metadata": {},
   "outputs": [],
   "source": []
  },
  {
   "cell_type": "code",
   "execution_count": null,
   "metadata": {},
   "outputs": [],
   "source": []
  }
 ],
 "metadata": {
  "kernelspec": {
   "display_name": "Python 3",
   "language": "python",
   "name": "python3"
  },
  "language_info": {
   "codemirror_mode": {
    "name": "ipython",
    "version": 3
   },
   "file_extension": ".py",
   "mimetype": "text/x-python",
   "name": "python",
   "nbconvert_exporter": "python",
   "pygments_lexer": "ipython3",
   "version": "3.6.8"
  }
 },
 "nbformat": 4,
 "nbformat_minor": 2
}
