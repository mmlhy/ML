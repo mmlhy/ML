{
 "cells": [
  {
   "cell_type": "code",
   "execution_count": 7,
   "metadata": {},
   "outputs": [],
   "source": [
    "import numpy as np\n",
    "import matplotlib.pyplot as plt"
   ]
  },
  {
   "cell_type": "code",
   "execution_count": 38,
   "metadata": {},
   "outputs": [
    {
     "name": "stdout",
     "output_type": "stream",
     "text": [
      "[[ 0.32767113]\n",
      " [ 0.58888573]\n",
      " [-0.08907214]\n",
      " [ 0.89627009]\n",
      " [-0.01302499]\n",
      " [ 0.98713272]]\n"
     ]
    }
   ],
   "source": [
    "\n",
    "\"\"\"\n",
    "输入段加大维度  六个输入分别维x0 = 1  x1 x2 x1平方 x1*x2 x2平方\n",
    "激活函数 y=x\n",
    "\"\"\"\n",
    "\n",
    "#输入数据\n",
    "X = np.array([[1,0,0,0,0,0],\n",
    "              [1,0,1,0,0,1],\n",
    "              [1,1,0,1,0,0],\n",
    "              [1,1,1,1,1,1]])\n",
    "#标签\n",
    "Y = np.array([[-1],\n",
    "              [1],\n",
    "              [1],\n",
    "              [-1]])\n",
    "#生成3行一列（-1,1）之间的数据  因为三个输入一个输出所以要三行一列\n",
    "#np.random.random() 生成的是0-1之间的数据\n",
    "W = (np.random.random([6,1])-0.5)*2\n",
    "\n",
    "print(W)\n",
    "\n",
    "lr = 0.11\n",
    "\n",
    "n = 0 #迭代次数\n",
    "\n",
    "O = 0\n",
    "\n",
    "def update():\n",
    "    global X,Y,W,lr,n,O\n",
    "    n = n + 1 \n",
    "    O = np.dot(X,W)\n",
    "    W_C = lr*((Y-O).T).dot(X) / int(X.shape[0])\n",
    "    W = W + W_C.T"
   ]
  },
  {
   "cell_type": "code",
   "execution_count": 43,
   "metadata": {},
   "outputs": [
    {
     "name": "stdout",
     "output_type": "stream",
     "text": [
      "(50,)\n",
      "[[-1.        ]\n",
      " [ 0.84630782]\n",
      " [ 0.46189757]\n",
      " [ 1.15369218]\n",
      " [-4.        ]\n",
      " [ 1.53810243]]\n",
      "[[-1.        ]\n",
      " [ 0.84630782]\n",
      " [ 0.46189757]\n",
      " [ 1.15369218]\n",
      " [-4.        ]\n",
      " [ 1.53810243]]\n"
     ]
    },
    {
     "data": {
      "image/png": "[encoded data removed]",
      "text/plain": [
       "<Figure size 432x288 with 1 Axes>"
      ]
     },
     "metadata": {
      "needs_background": "light"
     },
     "output_type": "display_data"
    }
   ],
   "source": [
    "for i in range(1000):\n",
    "    update()\n",
    "\n",
    "#正样本\n",
    "x1 = [0,1]\n",
    "y1 = [1,0]\n",
    "#负样本\n",
    "x2 = [0,1]\n",
    "y2 = [0,1]\n",
    "\"\"\"\n",
    "w5 y2 + y(w2+xw4) + w0 + xw1 + x2w3 = 0\n",
    "解二次方程\n",
    "\"\"\"\n",
    "def calculate(x,root):\n",
    "    print(W)\n",
    "    a = W[5]\n",
    "    b = W[2] + x * W[4]\n",
    "    c = W[0] + x * W[1] + x*x*W[3]\n",
    "    if root == 1:\n",
    "        return (-b + np.sqrt(b*b-4*a*c))/(2*a)\n",
    "    if root == 2:\n",
    "        return (-b - np.sqrt(b*b-4*a*c))/(2*a)\n",
    "xdata = np.linspace(-1,2)\n",
    "print(xdata.shape)\n",
    "plt.figure()\n",
    "\n",
    "plt.plot(xdata,calculate(xdata,1),'r')\n",
    "plt.plot(xdata,calculate(xdata,2),'r')\n",
    "\n",
    "plt.plot(x1,y1,'bo')\n",
    "plt.plot(x2,y2,'yo')\n",
    "plt.show()"
   ]
  },
  {
   "cell_type": "code",
   "execution_count": 44,
   "metadata": {},
   "outputs": [
    {
     "name": "stdout",
     "output_type": "stream",
     "text": [
      "[[-1.]\n",
      " [ 1.]\n",
      " [ 1.]\n",
      " [-1.]]\n"
     ]
    }
   ],
   "source": [
    "print(O)"
   ]
  },
  {
   "cell_type": "code",
   "execution_count": null,
   "metadata": {},
   "outputs": [],
   "source": []
  }
 ],
 "metadata": {
  "kernelspec": {
   "display_name": "Python 3",
   "language": "python",
   "name": "python3"
  },
  "language_info": {
   "codemirror_mode": {
    "name": "ipython",
    "version": 3
   },
   "file_extension": ".py",
   "mimetype": "text/x-python",
   "name": "python",
   "nbconvert_exporter": "python",
   "pygments_lexer": "ipython3",
   "version": "3.6.8"
  }
 },
 "nbformat": 4,
 "nbformat_minor": 2
}
