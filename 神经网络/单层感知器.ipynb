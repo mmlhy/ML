{
 "cells": [
  {
   "cell_type": "code",
   "execution_count": 2,
   "metadata": {},
   "outputs": [],
   "source": [
    "import numpy as np\n",
    "import matplotlib.pyplot as plt"
   ]
  },
  {
   "cell_type": "code",
   "execution_count": 33,
   "metadata": {},
   "outputs": [
    {
     "name": "stdout",
     "output_type": "stream",
     "text": [
      "[[-0.48825947]\n",
      " [ 0.68592736]\n",
      " [-0.74317598]]\n"
     ]
    }
   ],
   "source": [
    "#输入数据\n",
    "X = np.array([[1,3,3],\n",
    "              [1,4,3],\n",
    "              [1,1,1],\n",
    "              [1,0,2]])\n",
    "#标签\n",
    "Y = np.array([[1],\n",
    "              [1],\n",
    "              [-1],\n",
    "              [-1]])\n",
    "#生成3行一列（-1,1）之间的数据  因为三个输入一个输出所以要三行一列\n",
    "#np.random.random() 生成的是0-1之间的数据\n",
    "W = (np.random.random([3,1])-0.5)*2\n",
    "\n",
    "print(W)\n",
    "\n",
    "lr = 0.11\n",
    "\n",
    "#感知器输出\n",
    "O = 0\n",
    "def update():\n",
    "    global X,Y,W,lr,O\n",
    "    O = np.sign(np.dot(X,W))\n",
    "    W_C = lr*(X.T.dot(Y-O))/int(X.shape[0]) #lr*(X.T.dot(Y-O))  一次算多个误差会累计 取平均值\n",
    "    W = W + W_C \n",
    "    "
   ]
  },
  {
   "cell_type": "code",
   "execution_count": 34,
   "metadata": {},
   "outputs": [
    {
     "name": "stdout",
     "output_type": "stream",
     "text": [
      "[[-0.43325947]\n",
      " [ 0.85092736]\n",
      " [-0.57817598]]\n",
      " \n",
      "[[-0.43325947]\n",
      " [ 0.85092736]\n",
      " [-0.57817598]]\n",
      " \n",
      "结束\n"
     ]
    }
   ],
   "source": [
    "for i in range(1000):\n",
    "    update()\n",
    "    print(W)\n",
    "    print(\" \")\n",
    "    \n",
    "    if (O == Y).all():\n",
    "        print(\"结束\")\n",
    "        break"
   ]
  },
  {
   "cell_type": "code",
   "execution_count": 36,
   "metadata": {},
   "outputs": [
    {
     "name": "stdout",
     "output_type": "stream",
     "text": [
      "k =  [1.47174457]\n",
      "b = [-0.7493557]\n"
     ]
    },
    {
     "data": {
      "image/png": "[encoded data removed]",
      "text/plain": [
       "<Figure size 432x288 with 1 Axes>"
      ]
     },
     "metadata": {
      "needs_background": "light"
     },
     "output_type": "display_data"
    }
   ],
   "source": [
    "#正样本\n",
    "x1 = [3,4]\n",
    "y1 = [3,3]\n",
    "#负样本\n",
    "x2 = [1,0]\n",
    "y2 = [1,2]\n",
    "\n",
    "k = -W[1] / W[2]\n",
    "b = -W[0] / W[2]\n",
    "\n",
    "print(\"k = \",k)\n",
    "print(\"b =\", b)\n",
    "xdata = (0,5)\n",
    "\n",
    "plt.figure()\n",
    "plt.plot(xdata,xdata*k+b,'r')\n",
    "plt.scatter(x1,y1,c='b')\n",
    "plt.scatter(x2,y2,c='y')\n",
    "plt.show()\n"
   ]
  },
  {
   "cell_type": "code",
   "execution_count": 8,
   "metadata": {},
   "outputs": [
    {
     "data": {
      "text/plain": [
       "array([[-0.40875009],\n",
       "       [ 0.82351045],\n",
       "       [-0.03808664]])"
      ]
     },
     "execution_count": 8,
     "metadata": {},
     "output_type": "execute_result"
    }
   ],
   "source": []
  },
  {
   "cell_type": "code",
   "execution_count": null,
   "metadata": {},
   "outputs": [],
   "source": []
  }
 ],
 "metadata": {
  "kernelspec": {
   "display_name": "Python 3",
   "language": "python",
   "name": "python3"
  },
  "language_info": {
   "codemirror_mode": {
    "name": "ipython",
    "version": 3
   },
   "file_extension": ".py",
   "mimetype": "text/x-python",
   "name": "python",
   "nbconvert_exporter": "python",
   "pygments_lexer": "ipython3",
   "version": "3.6.8"
  }
 },
 "nbformat": 4,
 "nbformat_minor": 2
}
