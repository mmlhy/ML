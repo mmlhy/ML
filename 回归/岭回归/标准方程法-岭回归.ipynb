{
 "cells": [
  {
   "cell_type": "code",
   "execution_count": 40,
   "metadata": {},
   "outputs": [],
   "source": [
    "import numpy as np\n",
    "import matplotlib.pyplot as plt"
   ]
  },
  {
   "cell_type": "code",
   "execution_count": 41,
   "metadata": {},
   "outputs": [],
   "source": [
    "data = np.genfromtxt(r'longley.csv',delimiter=',')\n",
    "x_data = data[1:,2:]\n",
    "y_data = data[1:,1,np.newaxis]\n",
    "X_data = np.concatenate((np.ones((16,1)),x_data),axis = 1)"
   ]
  },
  {
   "cell_type": "code",
   "execution_count": 42,
   "metadata": {},
   "outputs": [],
   "source": [
    "def weight(xArr,yArr,lam=0.2):\n",
    "    xMat = np.mat(xArr)\n",
    "    yMat = np.mat(yArr)\n",
    "    xTx = xMat.T * xMat\n",
    "    rxTx = xTx + np.eye(xMat.shape[1])*lam\n",
    "    if np.linalg.det(rxTx) == 0:\n",
    "        print(\"不可逆\")\n",
    "        return\n",
    "    ws = rxTx.I * xMat.T * yMat\n",
    "    return ws"
   ]
  },
  {
   "cell_type": "code",
   "execution_count": 43,
   "metadata": {},
   "outputs": [
    {
     "name": "stdout",
     "output_type": "stream",
     "text": [
      "[[ 7.38107363e-04]\n",
      " [ 2.07703836e-01]\n",
      " [ 2.10076376e-02]\n",
      " [ 5.05385441e-03]\n",
      " [-1.59173066e+00]\n",
      " [ 1.10442920e-01]\n",
      " [-2.42280461e-01]]\n"
     ]
    }
   ],
   "source": [
    "ws = weight(X_data,y_data)\n",
    "print(ws)"
   ]
  },
  {
   "cell_type": "code",
   "execution_count": 44,
   "metadata": {},
   "outputs": [
    {
     "data": {
      "text/plain": [
       "matrix([[ 83.55075226],\n",
       "        [ 86.92588689],\n",
       "        [ 88.09720227],\n",
       "        [ 90.95677622],\n",
       "        [ 96.06951002],\n",
       "        [ 97.81955375],\n",
       "        [ 98.36444357],\n",
       "        [ 99.99814266],\n",
       "        [103.26832266],\n",
       "        [105.03165135],\n",
       "        [107.45224671],\n",
       "        [109.52190685],\n",
       "        [112.91863666],\n",
       "        [113.98357055],\n",
       "        [115.29845063],\n",
       "        [117.64279933]])"
      ]
     },
     "execution_count": 44,
     "metadata": {},
     "output_type": "execute_result"
    }
   ],
   "source": [
    "#计算预测值\n",
    "np.mat(X_data) * np.mat(ws)"
   ]
  },
  {
   "cell_type": "code",
   "execution_count": null,
   "metadata": {},
   "outputs": [],
   "source": []
  }
 ],
 "metadata": {
  "kernelspec": {
   "display_name": "Python 3",
   "language": "python",
   "name": "python3"
  },
  "language_info": {
   "codemirror_mode": {
    "name": "ipython",
    "version": 3
   },
   "file_extension": ".py",
   "mimetype": "text/x-python",
   "name": "python",
   "nbconvert_exporter": "python",
   "pygments_lexer": "ipython3",
   "version": "3.6.8"
  }
 },
 "nbformat": 4,
 "nbformat_minor": 2
}
