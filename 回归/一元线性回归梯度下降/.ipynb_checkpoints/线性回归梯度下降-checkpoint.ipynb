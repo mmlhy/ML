{
 "cells": [
  {
   "cell_type": "code",
   "execution_count": 2,
   "metadata": {},
   "outputs": [],
   "source": [
    "import numpy as np\n",
    "import matplotlib.pyplot as plt "
   ]
  },
  {
   "cell_type": "code",
   "execution_count": 3,
   "metadata": {},
   "outputs": [
    {
     "ename": "SyntaxError",
     "evalue": "unexpected EOF while parsing (<string>, line 1)",
     "output_type": "error",
     "traceback": [
      "Traceback \u001b[0;36m(most recent call last)\u001b[0m:\n",
      "  File \u001b[1;32m\"/usr/local/lib/python3.6/dist-packages/IPython/core/interactiveshell.py\"\u001b[0m, line \u001b[1;32m3296\u001b[0m, in \u001b[1;35mrun_code\u001b[0m\n    exec(code_obj, self.user_global_ns, self.user_ns)\n",
      "  File \u001b[1;32m\"<ipython-input-3-f65d57352d21>\"\u001b[0m, line \u001b[1;32m1\u001b[0m, in \u001b[1;35m<module>\u001b[0m\n    data = np.genfromtxt(\"data.csv\",',')\n",
      "  File \u001b[1;32m\"/home/miao/.local/lib/python3.6/site-packages/numpy/lib/npyio.py\"\u001b[0m, line \u001b[1;32m1812\u001b[0m, in \u001b[1;35mgenfromtxt\u001b[0m\n    replace_space=replace_space)\n",
      "  File \u001b[1;32m\"/home/miao/.local/lib/python3.6/site-packages/numpy/lib/_iotools.py\"\u001b[0m, line \u001b[1;32m917\u001b[0m, in \u001b[1;35measy_dtype\u001b[0m\n    ndtype = np.dtype(ndtype)\n",
      "\u001b[0;36m  File \u001b[0;32m\"/home/miao/.local/lib/python3.6/site-packages/numpy/core/_internal.py\"\u001b[0;36m, line \u001b[0;32m199\u001b[0;36m, in \u001b[0;35m_commastring\u001b[0;36m\u001b[0m\n\u001b[0;31m    newitem = (dtype, eval(repeats))\u001b[0m\n",
      "\u001b[0;36m  File \u001b[0;32m\"<string>\"\u001b[0;36m, line \u001b[0;32m1\u001b[0m\n\u001b[0;31m    ,\u001b[0m\n\u001b[0m    ^\u001b[0m\n\u001b[0;31mSyntaxError\u001b[0m\u001b[0;31m:\u001b[0m unexpected EOF while parsing\n"
     ]
    }
   ],
   "source": [
    "data = np.genfromtxt(\"data.csv\",',')"
   ]
  },
  {
   "cell_type": "code",
   "execution_count": null,
   "metadata": {},
   "outputs": [],
   "source": []
  }
 ],
 "metadata": {
  "kernelspec": {
   "display_name": "Python 3",
   "language": "python",
   "name": "python3"
  },
  "language_info": {
   "codemirror_mode": {
    "name": "ipython",
    "version": 3
   },
   "file_extension": ".py",
   "mimetype": "text/x-python",
   "name": "python",
   "nbconvert_exporter": "python",
   "pygments_lexer": "ipython3",
   "version": "3.6.8"
  }
 },
 "nbformat": 4,
 "nbformat_minor": 2
}
